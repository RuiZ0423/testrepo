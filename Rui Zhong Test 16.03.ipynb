{
 "cells": [
  {
   "cell_type": "markdown",
   "metadata": {},
   "source": [
    "# My Jupyter Notebook on IBM Watson Studio"
   ]
  },
  {
   "cell_type": "markdown",
   "metadata": {},
   "source": [
    "**Rui Zhong** <br> I'm unemployed, and I desire to find a job as data scientist after the course."
   ]
  },
  {
   "cell_type": "markdown",
   "metadata": {},
   "source": [
    "*I'm interested in data science because I'm good at math and data scientist is increasing demanded in job market*"
   ]
  },
  {
   "cell_type": "markdown",
   "metadata": {},
   "source": [
    "***print a which is the consequence of \"2 adds 2\""
   ]
  },
  {
   "cell_type": "code",
   "execution_count": 5,
   "metadata": {},
   "outputs": [
    {
     "name": "stdout",
     "output_type": "stream",
     "text": [
      "a\n"
     ]
    }
   ],
   "source": [
    "a=2+2\n",
    "print (\"a\")"
   ]
  },
  {
   "cell_type": "markdown",
   "metadata": {},
   "source": [
    "~~I hate mate "
   ]
  },
  {
   "cell_type": "markdown",
   "metadata": {},
   "source": [
    "`I love AI`"
   ]
  },
  {
   "cell_type": "markdown",
   "metadata": {},
   "source": [
    "> layer 1\n",
    ">> layer 2\n",
    ">>> layer 3"
   ]
  },
  {
   "cell_type": "markdown",
   "metadata": {},
   "source": [
    "+ I enjoy coding\n",
    "- I enjoy English\n",
    "* I enjoy logic"
   ]
  },
  {
   "cell_type": "markdown",
   "metadata": {},
   "source": [
    "1. I'm a curious person\n",
    "2. I'm ambitions\n",
    "3. I'm hardworking"
   ]
  }
 ],
 "metadata": {
  "kernelspec": {
   "display_name": "Python 3.10",
   "language": "python",
   "name": "python3"
  },
  "language_info": {
   "codemirror_mode": {
    "name": "ipython",
    "version": 3
   },
   "file_extension": ".py",
   "mimetype": "text/x-python",
   "name": "python",
   "nbconvert_exporter": "python",
   "pygments_lexer": "ipython3",
   "version": "3.10.9"
  }
 },
 "nbformat": 4,
 "nbformat_minor": 1
}
